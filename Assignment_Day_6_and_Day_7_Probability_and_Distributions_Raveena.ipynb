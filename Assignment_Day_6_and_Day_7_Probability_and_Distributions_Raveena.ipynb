{
  "nbformat": 4,
  "nbformat_minor": 0,
  "metadata": {
    "kernelspec": {
      "display_name": "Python 3",
      "language": "python",
      "name": "python3"
    },
    "language_info": {
      "codemirror_mode": {
        "name": "ipython",
        "version": 3
      },
      "file_extension": ".py",
      "mimetype": "text/x-python",
      "name": "python",
      "nbconvert_exporter": "python",
      "pygments_lexer": "ipython3",
      "version": "3.8.5"
    },
    "colab": {
      "name": "Assignment-Day-6_and_Day-7_Probability and Distributions_Raveena.ipynb",
      "provenance": [],
      "collapsed_sections": [],
      "include_colab_link": true
    }
  },
  "cells": [
    {
      "cell_type": "markdown",
      "metadata": {
        "id": "view-in-github",
        "colab_type": "text"
      },
      "source": [
        "<a href=\"https://colab.research.google.com/github/raveena-birua/LS_DSC_04_WKND/blob/main/Assignment_Day_6_and_Day_7_Probability_and_Distributions_Raveena.ipynb\" target=\"_parent\"><img src=\"https://colab.research.google.com/assets/colab-badge.svg\" alt=\"Open In Colab\"/></a>"
      ]
    },
    {
      "cell_type": "code",
      "metadata": {
        "id": "Y1o7Z5BJX7fh"
      },
      "source": [
        "import matplotlib.pyplot as plt\n",
        "import numpy as np\n",
        "import pandas as pd"
      ],
      "execution_count": null,
      "outputs": []
    },
    {
      "cell_type": "markdown",
      "metadata": {
        "id": "2aoonccEX7fj"
      },
      "source": [
        "# Q1"
      ]
    },
    {
      "cell_type": "markdown",
      "metadata": {
        "id": "Anf0013lX7fk"
      },
      "source": [
        "![image.png](attachment:image.png)"
      ]
    },
    {
      "cell_type": "code",
      "metadata": {
        "id": "YojMnPrJX7fk",
        "colab": {
          "base_uri": "https://localhost:8080/"
        },
        "outputId": "6052a7f3-8e2d-4e05-8e1c-03c2978bc854"
      },
      "source": [
        "Tp = 8000\n",
        "Tf = 1000\n",
        "Fp = 100\n",
        "Fn = 900\n",
        "\n",
        "Recall = Tp /(Tp + Fn)\n",
        "print('Recall' , Recall)\n",
        "\n",
        "Precision = Tp /(Tp + Tf)\n",
        "print('Precision', Precision)\n",
        "\n",
        "Accuracy = Tp /(Tp + Tf + Fp + Fn)\n",
        "print('Accuracy' , Accuracy)\n",
        "\n",
        "F1 = 2 * Recall * Precision/ (Recall + Precision)\n",
        "print('F1' , F1)\n",
        "\n",
        "\n"
      ],
      "execution_count": 21,
      "outputs": [
        {
          "output_type": "stream",
          "text": [
            "Recall 0.898876404494382\n",
            "Precision 0.8888888888888888\n",
            "Accuracy 0.8\n",
            "F1 0.8938547486033519\n"
          ],
          "name": "stdout"
        }
      ]
    },
    {
      "cell_type": "markdown",
      "metadata": {
        "id": "xX8La46kX7fk"
      },
      "source": [
        "## Q2. Consider our favorite coin toss experiment. If I toss a biased coin which has a probability of obtaining heads is 0.6. Tossing the coin 10 times, what is the probability that I get heads exactly 4 times."
      ]
    },
    {
      "cell_type": "code",
      "metadata": {
        "id": "6brXEQz-X7fl"
      },
      "source": [
        "n = 10\n",
        "p = 0.6\n",
        "q = 0.4\n",
        "r = 4\n",
        "Probability = 10! /(4! * 6!) * 0.6^4 * 0.4^6  = 0.11147\n",
        "\n",
        "\n"
      ],
      "execution_count": null,
      "outputs": []
    },
    {
      "cell_type": "markdown",
      "metadata": {
        "id": "IRdHqsvdX7fl"
      },
      "source": [
        "## Q3. You are fond of a particular flavor of ice-cream but that is rarely available in the shop. The probability of getting that ice-cream is only 0.15. Obtain a distribution table for getting ice -cream in 1,2,.....,10 visits and generate a plot. What would we observe if x values grow larger?"
      ]
    },
    {
      "cell_type": "code",
      "metadata": {
        "id": "xYyvHgvQX7fl"
      },
      "source": [
        "# Your Solution goes here...\n",
        "\n",
        "\n"
      ],
      "execution_count": null,
      "outputs": []
    },
    {
      "cell_type": "markdown",
      "metadata": {
        "id": "W8O9TZp4X7fl"
      },
      "source": [
        "## Q4. The number of calls coming per minute into a hotels reservation center is Poisson random variable with mean 3.\n",
        "\n",
        "#### 4 (a). Find the probability that no calls come in a given 1 minute period."
      ]
    },
    {
      "cell_type": "markdown",
      "metadata": {
        "id": "lsrwTkV9X7fm"
      },
      "source": [
        "#### Manual Solution: Hint\n",
        "\n",
        "Poisson distribution: P(X=r) = e-λ * λr /r!"
      ]
    },
    {
      "cell_type": "code",
      "metadata": {
        "id": "mMMDPOieX7fm"
      },
      "source": [
        "from scipy.stats import poisson\n",
        "l = 3\n",
        "r = 0\n",
        "poisson_pd = poisson.pmf(r, l)\n",
        "print(poisson_pd)\n",
        "\n",
        "\n"
      ],
      "execution_count": null,
      "outputs": []
    },
    {
      "cell_type": "markdown",
      "metadata": {
        "id": "SsNovKCtX7fm"
      },
      "source": [
        "#### 4 (b). Assume that the number of calls arriving in two different minutes are independent. Find the probability that at least two calls will arrive in a given two minute period."
      ]
    },
    {
      "cell_type": "markdown",
      "metadata": {
        "id": "NizkFB4HX7fm"
      },
      "source": [
        "#### Manual Solution: Hint\n",
        "\n",
        "X ~ Po(λ1) and Y ~ Po(λ2), where X specifies number of calls in first minute and Y specifies number of calls in second minute. Therefore, X + Y ~ Po(λ1 + λ2). For the given question, (λ1 + λ2) = 6 since we need to find out probability that at least two calls will arrive in a given two minute period.\n",
        "\n"
      ]
    },
    {
      "cell_type": "markdown",
      "metadata": {
        "id": "bL1YNuB1X7fn"
      },
      "source": [
        "#### Python Solution"
      ]
    },
    {
      "cell_type": "code",
      "metadata": {
        "id": "Nf2qvtPXX7fn"
      },
      "source": [
        "from scipy.stats import poisson\n",
        "l = 6\n",
        "r = 2\n",
        "poisson_pd = poisson.pmf(r, l)\n",
        "print(poisson_pd)\n",
        "\n",
        "\n",
        "\n"
      ],
      "execution_count": null,
      "outputs": []
    },
    {
      "cell_type": "markdown",
      "metadata": {
        "id": "6aHIr_XiX7fn"
      },
      "source": [
        "# Q5"
      ]
    },
    {
      "cell_type": "markdown",
      "metadata": {
        "id": "NnqtPolsX7fn"
      },
      "source": [
        "![image.png](attachment:image.png)"
      ]
    },
    {
      "cell_type": "markdown",
      "metadata": {
        "id": "-dgbtOvUX7fn"
      },
      "source": [
        "#### Hint"
      ]
    },
    {
      "cell_type": "markdown",
      "metadata": {
        "id": "-mhqhsXwX7fo"
      },
      "source": [
        "![image.png](attachment:image.png)"
      ]
    },
    {
      "cell_type": "code",
      "metadata": {
        "id": "kthWBSH5X7fo"
      },
      "source": [
        "# Given:\n",
        "\n",
        "mu = 67.2\n",
        "x = 72\n",
        "\n",
        "sigma_sq = 29.34\n",
        "\n",
        "# We can find\n",
        "\n",
        "sigma = pow(29.34, 1/2)\n",
        "\n",
        "z = (x-mu)/(sigma)\n",
        "print(z)"
      ],
      "execution_count": null,
      "outputs": []
    },
    {
      "cell_type": "markdown",
      "metadata": {
        "id": "0mFgQIP3X7fo"
      },
      "source": [
        "###### Manual Way: Hint"
      ]
    },
    {
      "cell_type": "markdown",
      "metadata": {
        "id": "lA9wKIe_X7fo"
      },
      "source": [
        "##### To find the P(Z < z), either we can look into z table or we can find it programatically. Let's find it using z table first.\n",
        "\n",
        "z table link: http://www.resourcesystemsconsulting.com/z-table/"
      ]
    },
    {
      "cell_type": "markdown",
      "metadata": {
        "id": "9nFGPCizX7fo"
      },
      "source": [
        "##### P(Z < 0.88) = ?  (Find it from the z-table. You can find the z-table from the link given above)\n",
        "\n",
        "##### So, P(Z >= 0.88) = ?"
      ]
    },
    {
      "cell_type": "code",
      "metadata": {
        "id": "H-O-f5xojIsw"
      },
      "source": [
        ""
      ],
      "execution_count": null,
      "outputs": []
    },
    {
      "cell_type": "markdown",
      "metadata": {
        "id": "lTRVOtXzX7fo"
      },
      "source": [
        "###### Python Way:"
      ]
    },
    {
      "cell_type": "code",
      "metadata": {
        "id": "1-YBdC25X7fo"
      },
      "source": [
        "import scipy.stats as st\n",
        "\n",
        "p = 1-st.norm.cdf(0.886 , 0 , 1)\n",
        "print(p)\n",
        "\n",
        "\n"
      ],
      "execution_count": null,
      "outputs": []
    },
    {
      "cell_type": "markdown",
      "metadata": {
        "id": "1iG_dt4PX7fp"
      },
      "source": [
        "## Q6:\n",
        "\n",
        "## The maximum weight that an elevator in an apartment complex can accommodate is 800kg. The average adult weight be about 70 kgs with a variance of 200. What is the probability that the lift safely reaches the ground when there are 10 adults in the lift. What if there are 12 adults?"
      ]
    },
    {
      "cell_type": "markdown",
      "metadata": {
        "id": "ExcIoKN5X7fp"
      },
      "source": [
        "#### Hint\n",
        "\n",
        "Expectation value of combined weight of 10 adults= E(X1)+E(X2)+....+E(X10) = 700\n",
        "\n",
        "Variance of the combined weights= 10*Var(X)= 10*200=2000 (since variance of a sum is equal to sum of variances.) \n",
        "\n",
        "In this case, we would want to find out variance of all 10 adults, which is given by:\n",
        "\n",
        "Var(X1) + Var(X2) + Var(X3) + ……. + Var(X10) = 200+200+200+.......+200\n",
        "\n",
        "Hence, x = 800; μ =700; σ2 = 2000\n",
        "\n",
        "##### Z = ?\n",
        "\n",
        "##### Look at the image below to understand the problem well."
      ]
    },
    {
      "cell_type": "markdown",
      "metadata": {
        "id": "DsuGTR1PX7fp"
      },
      "source": [
        "![image.png](attachment:image.png)"
      ]
    },
    {
      "cell_type": "markdown",
      "metadata": {
        "id": "JqWqDmmjX7fp"
      },
      "source": [
        "##### From z table:\n",
        "\n",
        "P(Z < z) = ?"
      ]
    },
    {
      "cell_type": "markdown",
      "metadata": {
        "id": "9KhuiuMNX7fp"
      },
      "source": [
        "###### From Python:"
      ]
    },
    {
      "cell_type": "code",
      "metadata": {
        "id": "gtZ-wtobX7fq",
        "colab": {
          "base_uri": "https://localhost:8080/"
        },
        "outputId": "7e1f3dd7-5a41-4448-d0f6-e0894d174fcb"
      },
      "source": [
        "#For 10 people\n",
        "import scipy.stats as st\n",
        "x = 800\n",
        "mu = 700\n",
        "sig = 44.72\n",
        "z = (x- mu) / sig\n",
        "print(z)\n",
        "p = st.norm.cdf(2.236 , 0 , 1)\n",
        "print(p)\n",
        "\n",
        "#For 12 people\n",
        "x1 = 800\n",
        "mu = 840\n",
        "sig = 48.98\n",
        "z1 = (x- mu) / sig\n",
        "print(z1)\n",
        "p1 = st.norm.cdf(-0.81 , 0 , 1)\n",
        "print(p1)"
      ],
      "execution_count": 22,
      "outputs": [
        {
          "output_type": "stream",
          "text": [
            "2.23613595706619\n",
            "0.9873241144208889\n",
            "-0.8166598611678236\n",
            "0.2089700878716016\n"
          ],
          "name": "stdout"
        }
      ]
    }
  ]
}